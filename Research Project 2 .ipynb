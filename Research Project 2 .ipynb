{
 "cells": [
  {
   "cell_type": "markdown",
   "id": "c9598342",
   "metadata": {},
   "source": [
    "# Solar Energy Production Zone Clustering"
   ]
  },
  {
   "cell_type": "code",
   "execution_count": 1,
   "id": "7a1cb388",
   "metadata": {},
   "outputs": [],
   "source": [
    "# Importing all necessary libraries\n",
    "import pandas as pd\n",
    "import numpy as np\n",
    "import matplotlib.pyplot as plt\n",
    "import seaborn as sns\n",
    "import warnings\n",
    "warnings.filterwarnings(\"ignore\")\n",
    "from sklearn.impute import SimpleImputer\n",
    "from sklearn.preprocessing import OneHotEncoder\n",
    "from sklearn.preprocessing import StandardScaler, MinMaxScaler\n",
    "from sklearn.cluster import KMeans, AgglomerativeClustering, DBSCAN\n",
    "from sklearn.metrics import silhouette_score\n",
    "from sklearn.mixture import GaussianMixture\n",
    "from sklearn.model_selection import GridSearchCV\n",
    "from sklearn.metrics import log_loss\n",
    "from sklearn.metrics import make_scorer"
   ]
  },
  {
   "cell_type": "markdown",
   "id": "9990718d",
   "metadata": {},
   "source": [
    "# Data Collection"
   ]
  },
  {
   "cell_type": "code",
   "execution_count": 2,
   "id": "fbf210c3",
   "metadata": {
    "scrolled": false
   },
   "outputs": [
    {
     "data": {
      "text/html": [
       "<div>\n",
       "<style scoped>\n",
       "    .dataframe tbody tr th:only-of-type {\n",
       "        vertical-align: middle;\n",
       "    }\n",
       "\n",
       "    .dataframe tbody tr th {\n",
       "        vertical-align: top;\n",
       "    }\n",
       "\n",
       "    .dataframe thead th {\n",
       "        text-align: right;\n",
       "    }\n",
       "</style>\n",
       "<table border=\"1\" class=\"dataframe\">\n",
       "  <thead>\n",
       "    <tr style=\"text-align: right;\">\n",
       "      <th></th>\n",
       "      <th>Data Through Date</th>\n",
       "      <th>Project ID</th>\n",
       "      <th>Interconnection Date</th>\n",
       "      <th>Utility</th>\n",
       "      <th>City/Town</th>\n",
       "      <th>County</th>\n",
       "      <th>Zip</th>\n",
       "      <th>Division</th>\n",
       "      <th>Substation</th>\n",
       "      <th>Circuit ID</th>\n",
       "      <th>Developer</th>\n",
       "      <th>Metering Method</th>\n",
       "      <th>Estimated PV System Size (kWdc)</th>\n",
       "      <th>PV System Size (kWac)</th>\n",
       "      <th>Estimated Annual PV Energy Production (kWh)</th>\n",
       "      <th>Energy Storage System Size (kWac)</th>\n",
       "      <th>Number of Projects</th>\n",
       "    </tr>\n",
       "  </thead>\n",
       "  <tbody>\n",
       "    <tr>\n",
       "      <th>0</th>\n",
       "      <td>12/31/2023</td>\n",
       "      <td>SDG-66301</td>\n",
       "      <td>12/29/2023</td>\n",
       "      <td>Con Ed</td>\n",
       "      <td>Richmond Hill</td>\n",
       "      <td>Queens</td>\n",
       "      <td>11418.0</td>\n",
       "      <td>CENY-BK</td>\n",
       "      <td>Brownsville_2</td>\n",
       "      <td>9B05</td>\n",
       "      <td>Kamtech Solar Solutions</td>\n",
       "      <td>NM</td>\n",
       "      <td>6.05</td>\n",
       "      <td>5.17</td>\n",
       "      <td>7100</td>\n",
       "      <td>NaN</td>\n",
       "      <td>1</td>\n",
       "    </tr>\n",
       "    <tr>\n",
       "      <th>1</th>\n",
       "      <td>12/31/2023</td>\n",
       "      <td>SDG-66299</td>\n",
       "      <td>12/29/2023</td>\n",
       "      <td>Con Ed</td>\n",
       "      <td>Bronx</td>\n",
       "      <td>Bronx</td>\n",
       "      <td>10473.0</td>\n",
       "      <td>CENY-BX</td>\n",
       "      <td>Parkchester_2</td>\n",
       "      <td>5X67</td>\n",
       "      <td>Kamtech Solar Solutions</td>\n",
       "      <td>NM</td>\n",
       "      <td>6.74</td>\n",
       "      <td>5.76</td>\n",
       "      <td>7911</td>\n",
       "      <td>NaN</td>\n",
       "      <td>1</td>\n",
       "    </tr>\n",
       "    <tr>\n",
       "      <th>2</th>\n",
       "      <td>12/31/2023</td>\n",
       "      <td>SDG-66288</td>\n",
       "      <td>12/29/2023</td>\n",
       "      <td>Con Ed</td>\n",
       "      <td>Brooklyn</td>\n",
       "      <td>Kings</td>\n",
       "      <td>11225.0</td>\n",
       "      <td>CENY-BK</td>\n",
       "      <td>Bensonhurst_2</td>\n",
       "      <td>4B08</td>\n",
       "      <td>SUNCO</td>\n",
       "      <td>NM</td>\n",
       "      <td>3.05</td>\n",
       "      <td>2.61</td>\n",
       "      <td>3585</td>\n",
       "      <td>NaN</td>\n",
       "      <td>1</td>\n",
       "    </tr>\n",
       "    <tr>\n",
       "      <th>3</th>\n",
       "      <td>12/31/2023</td>\n",
       "      <td>SDG-66284</td>\n",
       "      <td>12/29/2023</td>\n",
       "      <td>Con Ed</td>\n",
       "      <td>Brooklyn</td>\n",
       "      <td>Kings</td>\n",
       "      <td>11236.0</td>\n",
       "      <td>CENY-BK</td>\n",
       "      <td>Bensonhurst_2</td>\n",
       "      <td>3037</td>\n",
       "      <td>Kamtech Solar Solutions</td>\n",
       "      <td>NM</td>\n",
       "      <td>5.62</td>\n",
       "      <td>4.80</td>\n",
       "      <td>6592</td>\n",
       "      <td>NaN</td>\n",
       "      <td>1</td>\n",
       "    </tr>\n",
       "    <tr>\n",
       "      <th>4</th>\n",
       "      <td>12/31/2023</td>\n",
       "      <td>SDG-66277</td>\n",
       "      <td>12/28/2023</td>\n",
       "      <td>Con Ed</td>\n",
       "      <td>Springfield Gardens</td>\n",
       "      <td>Queens</td>\n",
       "      <td>11413.0</td>\n",
       "      <td>CENY-Q</td>\n",
       "      <td>Jamaica</td>\n",
       "      <td>9112</td>\n",
       "      <td>Kamtech Solar Solutions</td>\n",
       "      <td>NM</td>\n",
       "      <td>6.05</td>\n",
       "      <td>5.17</td>\n",
       "      <td>7100</td>\n",
       "      <td>NaN</td>\n",
       "      <td>1</td>\n",
       "    </tr>\n",
       "    <tr>\n",
       "      <th>...</th>\n",
       "      <td>...</td>\n",
       "      <td>...</td>\n",
       "      <td>...</td>\n",
       "      <td>...</td>\n",
       "      <td>...</td>\n",
       "      <td>...</td>\n",
       "      <td>...</td>\n",
       "      <td>...</td>\n",
       "      <td>...</td>\n",
       "      <td>...</td>\n",
       "      <td>...</td>\n",
       "      <td>...</td>\n",
       "      <td>...</td>\n",
       "      <td>...</td>\n",
       "      <td>...</td>\n",
       "      <td>...</td>\n",
       "      <td>...</td>\n",
       "    </tr>\n",
       "    <tr>\n",
       "      <th>218110</th>\n",
       "      <td>12/31/2023</td>\n",
       "      <td>49.0</td>\n",
       "      <td>12/19/2002</td>\n",
       "      <td>RGE</td>\n",
       "      <td>Ontario</td>\n",
       "      <td>Wayne</td>\n",
       "      <td>14519.0</td>\n",
       "      <td>Sodus</td>\n",
       "      <td>0205LS0237-1589 RTE 104</td>\n",
       "      <td>0205LS0237</td>\n",
       "      <td>NaN</td>\n",
       "      <td>NM</td>\n",
       "      <td>2.81</td>\n",
       "      <td>2.40</td>\n",
       "      <td>3296</td>\n",
       "      <td>NaN</td>\n",
       "      <td>1</td>\n",
       "    </tr>\n",
       "    <tr>\n",
       "      <th>218111</th>\n",
       "      <td>12/31/2023</td>\n",
       "      <td>48.0</td>\n",
       "      <td>9/24/2002</td>\n",
       "      <td>RGE</td>\n",
       "      <td>Friendship</td>\n",
       "      <td>Allegany</td>\n",
       "      <td>14739.0</td>\n",
       "      <td>Fillmore</td>\n",
       "      <td>8333GV7702-Friendship Nile RD</td>\n",
       "      <td>8333GV7702</td>\n",
       "      <td>NaN</td>\n",
       "      <td>NM</td>\n",
       "      <td>2.93</td>\n",
       "      <td>2.50</td>\n",
       "      <td>3433</td>\n",
       "      <td>NaN</td>\n",
       "      <td>1</td>\n",
       "    </tr>\n",
       "    <tr>\n",
       "      <th>218112</th>\n",
       "      <td>12/31/2023</td>\n",
       "      <td>NaN</td>\n",
       "      <td>7/1/2018</td>\n",
       "      <td>PSEGLI</td>\n",
       "      <td>NaN</td>\n",
       "      <td>Suffolk</td>\n",
       "      <td>11786.0</td>\n",
       "      <td>NaN</td>\n",
       "      <td>NaN</td>\n",
       "      <td>NaN</td>\n",
       "      <td>NaN</td>\n",
       "      <td>FIT</td>\n",
       "      <td>34362.00</td>\n",
       "      <td>24900.00</td>\n",
       "      <td>40335490</td>\n",
       "      <td>NaN</td>\n",
       "      <td>1</td>\n",
       "    </tr>\n",
       "    <tr>\n",
       "      <th>218113</th>\n",
       "      <td>12/31/2023</td>\n",
       "      <td>NaN</td>\n",
       "      <td>3/3/2018</td>\n",
       "      <td>PSEGLI</td>\n",
       "      <td>NaN</td>\n",
       "      <td>Suffolk</td>\n",
       "      <td>11933.0</td>\n",
       "      <td>NaN</td>\n",
       "      <td>NaN</td>\n",
       "      <td>NaN</td>\n",
       "      <td>NaN</td>\n",
       "      <td>FIT</td>\n",
       "      <td>27600.00</td>\n",
       "      <td>20000.00</td>\n",
       "      <td>32397984</td>\n",
       "      <td>NaN</td>\n",
       "      <td>1</td>\n",
       "    </tr>\n",
       "    <tr>\n",
       "      <th>218114</th>\n",
       "      <td>12/31/2023</td>\n",
       "      <td>NaN</td>\n",
       "      <td>11/1/2011</td>\n",
       "      <td>PSEGLI</td>\n",
       "      <td>NaN</td>\n",
       "      <td>Suffolk</td>\n",
       "      <td>11973.0</td>\n",
       "      <td>NaN</td>\n",
       "      <td>NaN</td>\n",
       "      <td>NaN</td>\n",
       "      <td>NaN</td>\n",
       "      <td>FIT</td>\n",
       "      <td>43470.00</td>\n",
       "      <td>31500.00</td>\n",
       "      <td>51026825</td>\n",
       "      <td>NaN</td>\n",
       "      <td>1</td>\n",
       "    </tr>\n",
       "  </tbody>\n",
       "</table>\n",
       "<p>218115 rows × 17 columns</p>\n",
       "</div>"
      ],
      "text/plain": [
       "       Data Through Date Project ID Interconnection Date Utility  \\\n",
       "0             12/31/2023  SDG-66301           12/29/2023  Con Ed   \n",
       "1             12/31/2023  SDG-66299           12/29/2023  Con Ed   \n",
       "2             12/31/2023  SDG-66288           12/29/2023  Con Ed   \n",
       "3             12/31/2023  SDG-66284           12/29/2023  Con Ed   \n",
       "4             12/31/2023  SDG-66277           12/28/2023  Con Ed   \n",
       "...                  ...        ...                  ...     ...   \n",
       "218110        12/31/2023       49.0           12/19/2002     RGE   \n",
       "218111        12/31/2023       48.0            9/24/2002     RGE   \n",
       "218112        12/31/2023        NaN             7/1/2018  PSEGLI   \n",
       "218113        12/31/2023        NaN             3/3/2018  PSEGLI   \n",
       "218114        12/31/2023        NaN            11/1/2011  PSEGLI   \n",
       "\n",
       "                  City/Town    County      Zip  Division  \\\n",
       "0             Richmond Hill    Queens  11418.0   CENY-BK   \n",
       "1                     Bronx     Bronx  10473.0   CENY-BX   \n",
       "2                  Brooklyn     Kings  11225.0   CENY-BK   \n",
       "3                  Brooklyn     Kings  11236.0   CENY-BK   \n",
       "4       Springfield Gardens    Queens  11413.0    CENY-Q   \n",
       "...                     ...       ...      ...       ...   \n",
       "218110              Ontario     Wayne  14519.0     Sodus   \n",
       "218111           Friendship  Allegany  14739.0  Fillmore   \n",
       "218112                  NaN   Suffolk  11786.0       NaN   \n",
       "218113                  NaN   Suffolk  11933.0       NaN   \n",
       "218114                  NaN   Suffolk  11973.0       NaN   \n",
       "\n",
       "                           Substation  Circuit ID                Developer  \\\n",
       "0                       Brownsville_2        9B05  Kamtech Solar Solutions   \n",
       "1                       Parkchester_2        5X67  Kamtech Solar Solutions   \n",
       "2                       Bensonhurst_2        4B08                    SUNCO   \n",
       "3                       Bensonhurst_2        3037  Kamtech Solar Solutions   \n",
       "4                             Jamaica        9112  Kamtech Solar Solutions   \n",
       "...                               ...         ...                      ...   \n",
       "218110        0205LS0237-1589 RTE 104  0205LS0237                      NaN   \n",
       "218111  8333GV7702-Friendship Nile RD  8333GV7702                      NaN   \n",
       "218112                            NaN         NaN                      NaN   \n",
       "218113                            NaN         NaN                      NaN   \n",
       "218114                            NaN         NaN                      NaN   \n",
       "\n",
       "       Metering Method  Estimated PV System Size (kWdc)  \\\n",
       "0                   NM                             6.05   \n",
       "1                   NM                             6.74   \n",
       "2                   NM                             3.05   \n",
       "3                   NM                             5.62   \n",
       "4                   NM                             6.05   \n",
       "...                ...                              ...   \n",
       "218110              NM                             2.81   \n",
       "218111              NM                             2.93   \n",
       "218112             FIT                         34362.00   \n",
       "218113             FIT                         27600.00   \n",
       "218114             FIT                         43470.00   \n",
       "\n",
       "        PV System Size (kWac)  Estimated Annual PV Energy Production (kWh)  \\\n",
       "0                        5.17                                         7100   \n",
       "1                        5.76                                         7911   \n",
       "2                        2.61                                         3585   \n",
       "3                        4.80                                         6592   \n",
       "4                        5.17                                         7100   \n",
       "...                       ...                                          ...   \n",
       "218110                   2.40                                         3296   \n",
       "218111                   2.50                                         3433   \n",
       "218112               24900.00                                     40335490   \n",
       "218113               20000.00                                     32397984   \n",
       "218114               31500.00                                     51026825   \n",
       "\n",
       "        Energy Storage System Size (kWac)  Number of Projects  \n",
       "0                                     NaN                   1  \n",
       "1                                     NaN                   1  \n",
       "2                                     NaN                   1  \n",
       "3                                     NaN                   1  \n",
       "4                                     NaN                   1  \n",
       "...                                   ...                 ...  \n",
       "218110                                NaN                   1  \n",
       "218111                                NaN                   1  \n",
       "218112                                NaN                   1  \n",
       "218113                                NaN                   1  \n",
       "218114                                NaN                   1  \n",
       "\n",
       "[218115 rows x 17 columns]"
      ]
     },
     "execution_count": 2,
     "metadata": {},
     "output_type": "execute_result"
    }
   ],
   "source": [
    "slr_ep = pd.read_csv(\"Statewide Solar Projects.csv\")\n",
    "slr_ep"
   ]
  },
  {
   "cell_type": "markdown",
   "id": "cb325b19",
   "metadata": {},
   "source": [
    "# Data Exploration"
   ]
  },
  {
   "cell_type": "code",
   "execution_count": 3,
   "id": "c7e21fb6",
   "metadata": {},
   "outputs": [
    {
     "name": "stdout",
     "output_type": "stream",
     "text": [
      "First few rows of the dataset:\n",
      "  Data Through Date Project ID Interconnection Date Utility  \\\n",
      "0        12/31/2023  SDG-66301           12/29/2023  Con Ed   \n",
      "1        12/31/2023  SDG-66299           12/29/2023  Con Ed   \n",
      "2        12/31/2023  SDG-66288           12/29/2023  Con Ed   \n",
      "3        12/31/2023  SDG-66284           12/29/2023  Con Ed   \n",
      "4        12/31/2023  SDG-66277           12/28/2023  Con Ed   \n",
      "\n",
      "             City/Town  County      Zip Division     Substation Circuit ID  \\\n",
      "0        Richmond Hill  Queens  11418.0  CENY-BK  Brownsville_2       9B05   \n",
      "1                Bronx   Bronx  10473.0  CENY-BX  Parkchester_2       5X67   \n",
      "2             Brooklyn   Kings  11225.0  CENY-BK  Bensonhurst_2       4B08   \n",
      "3             Brooklyn   Kings  11236.0  CENY-BK  Bensonhurst_2       3037   \n",
      "4  Springfield Gardens  Queens  11413.0   CENY-Q        Jamaica       9112   \n",
      "\n",
      "                 Developer Metering Method  Estimated PV System Size (kWdc)  \\\n",
      "0  Kamtech Solar Solutions              NM                             6.05   \n",
      "1  Kamtech Solar Solutions              NM                             6.74   \n",
      "2                    SUNCO              NM                             3.05   \n",
      "3  Kamtech Solar Solutions              NM                             5.62   \n",
      "4  Kamtech Solar Solutions              NM                             6.05   \n",
      "\n",
      "   PV System Size (kWac)  Estimated Annual PV Energy Production (kWh)  \\\n",
      "0                   5.17                                         7100   \n",
      "1                   5.76                                         7911   \n",
      "2                   2.61                                         3585   \n",
      "3                   4.80                                         6592   \n",
      "4                   5.17                                         7100   \n",
      "\n",
      "   Energy Storage System Size (kWac)  Number of Projects  \n",
      "0                                NaN                   1  \n",
      "1                                NaN                   1  \n",
      "2                                NaN                   1  \n",
      "3                                NaN                   1  \n",
      "4                                NaN                   1  \n"
     ]
    }
   ],
   "source": [
    "# Display the first few rows of the dataset\n",
    "print(\"First few rows of the dataset:\")\n",
    "print(slr_ep.head())"
   ]
  },
  {
   "cell_type": "code",
   "execution_count": 4,
   "id": "d06b9585",
   "metadata": {},
   "outputs": [
    {
     "name": "stdout",
     "output_type": "stream",
     "text": [
      "\n",
      "Summary statistics of numerical features:\n",
      "                 Zip  Estimated PV System Size (kWdc)  PV System Size (kWac)  \\\n",
      "count  218019.000000                    218115.000000          218115.000000   \n",
      "mean    11751.734473                        24.507977              19.065451   \n",
      "std       962.129108                       291.525394             211.419642   \n",
      "min     10001.000000                         0.010000               0.010000   \n",
      "25%     11220.000000                         5.270000               4.500000   \n",
      "50%     11717.000000                         7.130000               6.090000   \n",
      "75%     12018.000000                        10.240000               8.750000   \n",
      "max     14905.000000                     43470.000000           31500.000000   \n",
      "\n",
      "       Estimated Annual PV Energy Production (kWh)  \\\n",
      "count                                 2.181150e+05   \n",
      "mean                                  2.876828e+04   \n",
      "std                                   3.422042e+05   \n",
      "min                                   1.400000e+01   \n",
      "25%                                   6.180000e+03   \n",
      "50%                                   8.364000e+03   \n",
      "75%                                   1.201700e+04   \n",
      "max                                   5.102682e+07   \n",
      "\n",
      "       Energy Storage System Size (kWac)  Number of Projects  \n",
      "count                        4091.000000            218115.0  \n",
      "mean                           32.174727                 1.0  \n",
      "std                           296.161116                 0.0  \n",
      "min                             0.350000                 1.0  \n",
      "25%                             5.000000                 1.0  \n",
      "50%                             7.600000                 1.0  \n",
      "75%                            10.000000                 1.0  \n",
      "max                          5000.000000                 1.0  \n"
     ]
    }
   ],
   "source": [
    "# Summary statistics of numerical features\n",
    "print(\"\\nSummary statistics of numerical features:\")\n",
    "print(slr_ep.describe())"
   ]
  },
  {
   "cell_type": "code",
   "execution_count": 5,
   "id": "e5f7ca38",
   "metadata": {},
   "outputs": [
    {
     "name": "stdout",
     "output_type": "stream",
     "text": [
      "\n",
      "Data types and missing values:\n",
      "<class 'pandas.core.frame.DataFrame'>\n",
      "RangeIndex: 218115 entries, 0 to 218114\n",
      "Data columns (total 17 columns):\n",
      " #   Column                                       Non-Null Count   Dtype  \n",
      "---  ------                                       --------------   -----  \n",
      " 0   Data Through Date                            218115 non-null  object \n",
      " 1   Project ID                                   218112 non-null  object \n",
      " 2   Interconnection Date                         218115 non-null  object \n",
      " 3   Utility                                      218115 non-null  object \n",
      " 4   City/Town                                    218057 non-null  object \n",
      " 5   County                                       218115 non-null  object \n",
      " 6   Zip                                          218019 non-null  float64\n",
      " 7   Division                                     132881 non-null  object \n",
      " 8   Substation                                   138171 non-null  object \n",
      " 9   Circuit ID                                   218085 non-null  object \n",
      " 10  Developer                                    207565 non-null  object \n",
      " 11  Metering Method                              217652 non-null  object \n",
      " 12  Estimated PV System Size (kWdc)              218115 non-null  float64\n",
      " 13  PV System Size (kWac)                        218115 non-null  float64\n",
      " 14  Estimated Annual PV Energy Production (kWh)  218115 non-null  int64  \n",
      " 15  Energy Storage System Size (kWac)            4091 non-null    float64\n",
      " 16  Number of Projects                           218115 non-null  int64  \n",
      "dtypes: float64(4), int64(2), object(11)\n",
      "memory usage: 28.3+ MB\n",
      "None\n"
     ]
    }
   ],
   "source": [
    "# Check data types and missing values\n",
    "print(\"\\nData types and missing values:\")\n",
    "print(slr_ep.info())"
   ]
  },
  {
   "cell_type": "code",
   "execution_count": 6,
   "id": "f13eec41",
   "metadata": {},
   "outputs": [
    {
     "name": "stdout",
     "output_type": "stream",
     "text": [
      "\n",
      "Number of missing values per column:\n",
      "Data Through Date                                   0\n",
      "Project ID                                          3\n",
      "Interconnection Date                                0\n",
      "Utility                                             0\n",
      "City/Town                                          58\n",
      "County                                              0\n",
      "Zip                                                96\n",
      "Division                                        85234\n",
      "Substation                                      79944\n",
      "Circuit ID                                         30\n",
      "Developer                                       10550\n",
      "Metering Method                                   463\n",
      "Estimated PV System Size (kWdc)                     0\n",
      "PV System Size (kWac)                               0\n",
      "Estimated Annual PV Energy Production (kWh)         0\n",
      "Energy Storage System Size (kWac)              214024\n",
      "Number of Projects                                  0\n",
      "dtype: int64\n"
     ]
    }
   ],
   "source": [
    "# Check for missing values\n",
    "print(\"\\nNumber of missing values per column:\")\n",
    "print(slr_ep.isnull().sum())"
   ]
  },
  {
   "cell_type": "code",
   "execution_count": 7,
   "id": "e3aebaa2",
   "metadata": {},
   "outputs": [
    {
     "data": {
      "image/png": "[encoded data removed]",
      "text/plain": [
       "<Figure size 1200x600 with 1 Axes>"
      ]
     },
     "metadata": {},
     "output_type": "display_data"
    }
   ],
   "source": [
    "# Visualize distributions of numerical features\n",
    "plt.figure(figsize=(12, 6))\n",
    "sns.histplot(slr_ep['Estimated PV System Size (kWdc)'], bins=20, kde=True, color='blue')\n",
    "plt.title('Distribution of Estimated PV System Size (kWdc)')\n",
    "plt.xlabel('Estimated PV System Size (kWdc)')\n",
    "plt.ylabel('Frequency')\n",
    "plt.show()"
   ]
  },
  {
   "cell_type": "code",
   "execution_count": 8,
   "id": "5df1280c",
   "metadata": {},
   "outputs": [
    {
     "data": {
      "image/png": "[encoded data removed]",
      "text/plain": [
       "<Figure size 1200x600 with 1 Axes>"
      ]
     },
     "metadata": {},
     "output_type": "display_data"
    }
   ],
   "source": [
    "plt.figure(figsize=(12, 6))\n",
    "sns.histplot(slr_ep['Estimated Annual PV Energy Production (kWh)'], bins=20, kde=True, color='green')\n",
    "plt.title('Distribution of Estimated Annual PV Energy Production (kWh)')\n",
    "plt.xlabel('Estimated Annual PV Energy Production (kWh)')\n",
    "plt.ylabel('Frequency')\n",
    "plt.show()"
   ]
  },
  {
   "cell_type": "code",
   "execution_count": 9,
   "id": "72462f7b",
   "metadata": {},
   "outputs": [
    {
     "data": {
      "image/png": "[encoded data removed]",
      "text/plain": [
       "<Figure size 1000x600 with 1 Axes>"
      ]
     },
     "metadata": {},
     "output_type": "display_data"
    }
   ],
   "source": [
    "# Visualize relationships between numerical features\n",
    "plt.figure(figsize=(10, 6))\n",
    "sns.scatterplot(data=slr_ep, x='Estimated PV System Size (kWdc)', y='Estimated Annual PV Energy Production (kWh)')\n",
    "plt.title('Relationship between Estimated PV System Size and Annual Energy Production')\n",
    "plt.xlabel('Estimated PV System Size (kWdc)')\n",
    "plt.ylabel('Estimated Annual PV Energy Production (kWh)')\n",
    "plt.show()"
   ]
  },
  {
   "cell_type": "markdown",
   "id": "724f109a",
   "metadata": {},
   "source": [
    "# Data Preprocessing"
   ]
  },
  {
   "cell_type": "code",
   "execution_count": 10,
   "id": "0e9a6e29",
   "metadata": {},
   "outputs": [],
   "source": [
    "# Handle missing values\n",
    "# Let's impute missing values in numerical columns with the mean\n",
    "num_imputer = SimpleImputer(strategy='mean')\n",
    "numerical_columns = slr_ep.select_dtypes(include=['float64', 'int64']).columns\n",
    "slr_ep[numerical_columns] = num_imputer.fit_transform(slr_ep[numerical_columns])"
   ]
  },
  {
   "cell_type": "code",
   "execution_count": 11,
   "id": "fb602e8b",
   "metadata": {},
   "outputs": [],
   "source": [
    "# For categorical columns, let's impute missing values with the most frequent value\n",
    "cat_imputer = SimpleImputer(strategy='most_frequent')\n",
    "categorical_columns = slr_ep.select_dtypes(include=['object']).columns\n",
    "slr_ep[categorical_columns] = cat_imputer.fit_transform(slr_ep[categorical_columns])"
   ]
  },
  {
   "cell_type": "code",
   "execution_count": 12,
   "id": "586569bf",
   "metadata": {},
   "outputs": [
    {
     "name": "stdout",
     "output_type": "stream",
     "text": [
      "\n",
      "Number of missing values per column:\n",
      "Data Through Date                              0\n",
      "Project ID                                     0\n",
      "Interconnection Date                           0\n",
      "Utility                                        0\n",
      "City/Town                                      0\n",
      "County                                         0\n",
      "Zip                                            0\n",
      "Division                                       0\n",
      "Substation                                     0\n",
      "Circuit ID                                     0\n",
      "Developer                                      0\n",
      "Metering Method                                0\n",
      "Estimated PV System Size (kWdc)                0\n",
      "PV System Size (kWac)                          0\n",
      "Estimated Annual PV Energy Production (kWh)    0\n",
      "Energy Storage System Size (kWac)              0\n",
      "Number of Projects                             0\n",
      "dtype: int64\n"
     ]
    }
   ],
   "source": [
    "# Check for missing values\n",
    "print(\"\\nNumber of missing values per column:\")\n",
    "print(slr_ep.isnull().sum())"
   ]
  },
  {
   "cell_type": "code",
   "execution_count": 13,
   "id": "4f039dc2",
   "metadata": {},
   "outputs": [
    {
     "name": "stdout",
     "output_type": "stream",
     "text": [
      "Preprocessed dataset:\n",
      "  Data Through Date Project ID Interconnection Date Utility  \\\n",
      "0        12/31/2023  SDG-66301           12/29/2023  Con Ed   \n",
      "1        12/31/2023  SDG-66299           12/29/2023  Con Ed   \n",
      "2        12/31/2023  SDG-66288           12/29/2023  Con Ed   \n",
      "3        12/31/2023  SDG-66284           12/29/2023  Con Ed   \n",
      "4        12/31/2023  SDG-66277           12/28/2023  Con Ed   \n",
      "\n",
      "             City/Town  County      Zip Division     Substation Circuit ID  \\\n",
      "0        Richmond Hill  Queens  11418.0  CENY-BK  Brownsville_2       9B05   \n",
      "1                Bronx   Bronx  10473.0  CENY-BX  Parkchester_2       5X67   \n",
      "2             Brooklyn   Kings  11225.0  CENY-BK  Bensonhurst_2       4B08   \n",
      "3             Brooklyn   Kings  11236.0  CENY-BK  Bensonhurst_2       3037   \n",
      "4  Springfield Gardens  Queens  11413.0   CENY-Q        Jamaica       9112   \n",
      "\n",
      "   ... PV System Size (kWac)  Estimated Annual PV Energy Production (kWh)  \\\n",
      "0  ...                  5.17                                       7100.0   \n",
      "1  ...                  5.76                                       7911.0   \n",
      "2  ...                  2.61                                       3585.0   \n",
      "3  ...                  4.80                                       6592.0   \n",
      "4  ...                  5.17                                       7100.0   \n",
      "\n",
      "   Energy Storage System Size (kWac)  Number of Projects  Metering Method_CDG  \\\n",
      "0                          32.174727                 1.0                False   \n",
      "1                          32.174727                 1.0                False   \n",
      "2                          32.174727                 1.0                False   \n",
      "3                          32.174727                 1.0                False   \n",
      "4                          32.174727                 1.0                False   \n",
      "\n",
      "   Metering Method_FIT  Metering Method_NM  Metering Method_RC  \\\n",
      "0                False                True               False   \n",
      "1                False                True               False   \n",
      "2                False                True               False   \n",
      "3                False                True               False   \n",
      "4                False                True               False   \n",
      "\n",
      "   Metering Method_RFP  Metering Method_RNM  \n",
      "0                False                False  \n",
      "1                False                False  \n",
      "2                False                False  \n",
      "3                False                False  \n",
      "4                False                False  \n",
      "\n",
      "[5 rows x 22 columns]\n"
     ]
    }
   ],
   "source": [
    "# Convert categorical variables into numerical representations using one-hot encoding\n",
    "# Assuming 'Metering Method' is a categorical variable to be one-hot encoded\n",
    "slr_ep_encoded = pd.get_dummies(slr_ep, columns=['Metering Method'])\n",
    "\n",
    "\n",
    "# Display the preprocessed dataset\n",
    "print(\"Preprocessed dataset:\")\n",
    "print(slr_ep_encoded.head())"
   ]
  },
  {
   "cell_type": "markdown",
   "id": "3eea803e",
   "metadata": {},
   "source": [
    "#  Feature Selection/Engineering"
   ]
  },
  {
   "cell_type": "code",
   "execution_count": 14,
   "id": "ed2a1e5f",
   "metadata": {},
   "outputs": [
    {
     "name": "stdout",
     "output_type": "stream",
     "text": [
      "Selected and engineered features:\n",
      "             City/Town  County      Zip  Estimated PV System Size (kWdc)  \\\n",
      "0        Richmond Hill  Queens  11418.0                             6.05   \n",
      "1                Bronx   Bronx  10473.0                             6.74   \n",
      "2             Brooklyn   Kings  11225.0                             3.05   \n",
      "3             Brooklyn   Kings  11236.0                             5.62   \n",
      "4  Springfield Gardens  Queens  11413.0                             6.05   \n",
      "\n",
      "   Estimated Annual PV Energy Production (kWh)  \\\n",
      "0                                       7100.0   \n",
      "1                                       7911.0   \n",
      "2                                       3585.0   \n",
      "3                                       6592.0   \n",
      "4                                       7100.0   \n",
      "\n",
      "   System Size to Energy Production Ratio  \n",
      "0                                0.000852  \n",
      "1                                0.000852  \n",
      "2                                0.000851  \n",
      "3                                0.000853  \n",
      "4                                0.000852  \n"
     ]
    }
   ],
   "source": [
    "# Select relevant features for clustering\n",
    "selected_features = ['City/Town', 'County', 'Zip', 'Estimated PV System Size (kWdc)',\n",
    "                     'Estimated Annual PV Energy Production (kWh)']\n",
    "slr_ep_selected = slr_ep[selected_features]\n",
    "\n",
    "# Engineer new features\n",
    "# Calculate the ratio of PV system size to energy production\n",
    "slr_ep_selected['System Size to Energy Production Ratio'] = slr_ep_selected[\n",
    "    'Estimated PV System Size (kWdc)'] / slr_ep_selected['Estimated Annual PV Energy Production (kWh)']\n",
    "\n",
    "# Display the selected and engineered features\n",
    "print(\"Selected and engineered features:\")\n",
    "print(slr_ep_selected.head())"
   ]
  },
  {
   "cell_type": "markdown",
   "id": "1bbf4b52",
   "metadata": {},
   "source": [
    "# Normalization/Standardization"
   ]
  },
  {
   "cell_type": "code",
   "execution_count": 15,
   "id": "74d60eb2",
   "metadata": {},
   "outputs": [
    {
     "name": "stdout",
     "output_type": "stream",
     "text": [
      "Normalized/Standardized DataFrame:\n",
      "  Data Through Date Project ID Interconnection Date Utility  \\\n",
      "0        12/31/2023  SDG-66301           12/29/2023  Con Ed   \n",
      "1        12/31/2023  SDG-66299           12/29/2023  Con Ed   \n",
      "2        12/31/2023  SDG-66288           12/29/2023  Con Ed   \n",
      "3        12/31/2023  SDG-66284           12/29/2023  Con Ed   \n",
      "4        12/31/2023  SDG-66277           12/28/2023  Con Ed   \n",
      "\n",
      "             City/Town  County      Zip Division     Substation Circuit ID  \\\n",
      "0        Richmond Hill  Queens  11418.0  CENY-BK  Brownsville_2       9B05   \n",
      "1                Bronx   Bronx  10473.0  CENY-BX  Parkchester_2       5X67   \n",
      "2             Brooklyn   Kings  11225.0  CENY-BK  Bensonhurst_2       4B08   \n",
      "3             Brooklyn   Kings  11236.0  CENY-BK  Bensonhurst_2       3037   \n",
      "4  Springfield Gardens  Queens  11413.0   CENY-Q        Jamaica       9112   \n",
      "\n",
      "                 Developer Metering Method  Estimated PV System Size (kWdc)  \\\n",
      "0  Kamtech Solar Solutions              NM                        -0.063315   \n",
      "1  Kamtech Solar Solutions              NM                        -0.060948   \n",
      "2                    SUNCO              NM                        -0.073606   \n",
      "3  Kamtech Solar Solutions              NM                        -0.064790   \n",
      "4  Kamtech Solar Solutions              NM                        -0.063315   \n",
      "\n",
      "   PV System Size (kWac)  Estimated Annual PV Energy Production (kWh)  \\\n",
      "0              -0.065725                                    -0.063320   \n",
      "1              -0.062934                                    -0.060950   \n",
      "2              -0.077833                                    -0.073592   \n",
      "3              -0.067475                                    -0.064804   \n",
      "4              -0.065725                                    -0.063320   \n",
      "\n",
      "   Energy Storage System Size (kWac)  Number of Projects  \n",
      "0                                0.0                 0.0  \n",
      "1                                0.0                 0.0  \n",
      "2                                0.0                 0.0  \n",
      "3                                0.0                 0.0  \n",
      "4                                0.0                 0.0  \n"
     ]
    }
   ],
   "source": [
    "# Extract numerical columns\n",
    "numerical_columns = ['Estimated PV System Size (kWdc)', 'PV System Size (kWac)',\n",
    "                     'Estimated Annual PV Energy Production (kWh)', 'Energy Storage System Size (kWac)', 'Number of Projects']\n",
    "\n",
    "# Initialize the scaler\n",
    "# You can choose either StandardScaler or MinMaxScaler based on your preference\n",
    "scaler = StandardScaler()  # Or MinMaxScaler()\n",
    "\n",
    "# Fit and transform the numerical columns\n",
    "slr_ep[numerical_columns] = scaler.fit_transform(slr_ep[numerical_columns])\n",
    "\n",
    "# Display the normalized/standardized DataFrame\n",
    "print(\"Normalized/Standardized DataFrame:\")\n",
    "print(slr_ep.head())"
   ]
  },
  {
   "cell_type": "markdown",
   "id": "f02003c1",
   "metadata": {},
   "source": [
    "# Clustering Algorithm Selection"
   ]
  },
  {
   "cell_type": "markdown",
   "id": "d9bf10ef",
   "metadata": {},
   "source": [
    "# MiniBatchKMeans"
   ]
  },
  {
   "cell_type": "code",
   "execution_count": 16,
   "id": "daa57ebe",
   "metadata": {},
   "outputs": [
    {
     "name": "stdout",
     "output_type": "stream",
     "text": [
      "Silhouette Score (MiniBatchKMeans): 0.7526529886371267\n"
     ]
    }
   ],
   "source": [
    "from sklearn.cluster import MiniBatchKMeans\n",
    "from sklearn.metrics import silhouette_score\n",
    "from sklearn.preprocessing import StandardScaler\n",
    "\n",
    "# Select numerical columns for clustering\n",
    "numerical_columns = ['Estimated PV System Size (kWdc)', 'PV System Size (kWac)', \n",
    "                     'Estimated Annual PV Energy Production (kWh)', 'Energy Storage System Size (kWac)']\n",
    "\n",
    "# Extract numerical features for clustering\n",
    "X = slr_ep[numerical_columns]\n",
    "\n",
    "# Define the number of clusters\n",
    "n_clusters = 9\n",
    "\n",
    "# Standardize the numerical features\n",
    "scaler = StandardScaler()\n",
    "X_scaled = scaler.fit_transform(X)\n",
    "\n",
    "# Initialize MiniBatchKMeans clustering algorithm\n",
    "kmeans = MiniBatchKMeans(n_clusters=3, random_state=42)\n",
    "\n",
    "# Fit the algorithm to the data\n",
    "kmeans.fit(X_scaled)\n",
    "\n",
    "# Evaluate the clustering algorithm\n",
    "silhouette_score_kmeans = silhouette_score(X_scaled, kmeans.labels_)\n",
    "\n",
    "# Print silhouette score\n",
    "print(\"Silhouette Score (MiniBatchKMeans):\", silhouette_score_kmeans)"
   ]
  },
  {
   "cell_type": "markdown",
   "id": "d1c83c5b",
   "metadata": {},
   "source": [
    "# Gaussian Mixture Model"
   ]
  },
  {
   "cell_type": "code",
   "execution_count": 17,
   "id": "74cb3a54",
   "metadata": {},
   "outputs": [
    {
     "name": "stdout",
     "output_type": "stream",
     "text": [
      "Gaussian Mixture Model Silhouette Score: 0.924949060242125\n"
     ]
    }
   ],
   "source": [
    "# Select numerical columns for clustering\n",
    "numerical_columns = ['Estimated PV System Size (kWdc)', 'PV System Size (kWac)',\n",
    "                     'Estimated Annual PV Energy Production (kWh)', 'Energy Storage System Size (kWac)', 'Number of Projects']\n",
    "\n",
    "# Select and preprocess numerical data for clustering\n",
    "X = slr_ep[numerical_columns].values\n",
    "scaler = StandardScaler()\n",
    "X_scaled = scaler.fit_transform(X)\n",
    "\n",
    "# Define the number of clusters\n",
    "n_clusters = 9\n",
    "\n",
    "# Initialize and fit the Gaussian Mixture Model\n",
    "gmm = GaussianMixture(n_components=n_clusters, random_state=42)\n",
    "gmm.fit(X_scaled)\n",
    "\n",
    "# Predict cluster labels\n",
    "gmm_labels = gmm.predict(X_scaled)\n",
    "\n",
    "# Evaluate the GMM clustering using silhouette score\n",
    "gmm_silhouette = silhouette_score(X_scaled, gmm_labels)\n",
    "\n",
    "# Display silhouette score for GMM\n",
    "print(\"Gaussian Mixture Model Silhouette Score:\", gmm_silhouette)"
   ]
  },
  {
   "cell_type": "markdown",
   "id": "6ae5a7f1",
   "metadata": {},
   "source": [
    "# Clustering"
   ]
  },
  {
   "cell_type": "code",
   "execution_count": 18,
   "id": "0a00ac4e",
   "metadata": {
    "scrolled": true
   },
   "outputs": [
    {
     "name": "stdout",
     "output_type": "stream",
     "text": [
      "Cluster\n",
      "0    208738\n",
      "6      4731\n",
      "5      3806\n",
      "4       547\n",
      "1       159\n",
      "8        97\n",
      "2        32\n",
      "3         4\n",
      "7         1\n",
      "Name: count, dtype: int64\n"
     ]
    }
   ],
   "source": [
    "# Extract features for clustering\n",
    "X = slr_ep[['Estimated PV System Size (kWdc)', 'PV System Size (kWac)',\n",
    "            'Estimated Annual PV Energy Production (kWh)', 'Energy Storage System Size (kWac)']]\n",
    "\n",
    "# Standardize features\n",
    "scaler = StandardScaler()\n",
    "X_scaled = scaler.fit_transform(X)\n",
    "\n",
    "# Initialize and fit the Gaussian Mixture Model\n",
    "n_components = 9 # You can adjust the number of clusters as needed\n",
    "gmm = GaussianMixture(n_components=n_components, random_state=42)\n",
    "gmm.fit(X_scaled)\n",
    "\n",
    "# Predict cluster labels\n",
    "cluster_labels = gmm.predict(X_scaled)\n",
    "\n",
    "# Add cluster labels to the original dataframe\n",
    "slr_ep['Cluster'] = cluster_labels\n",
    "\n",
    "# Print the counts of samples in each cluster\n",
    "print(slr_ep['Cluster'].value_counts())"
   ]
  },
  {
   "cell_type": "markdown",
   "id": "8e4b8592",
   "metadata": {},
   "source": [
    "# Conclusion:\n",
    "The clustering analysis revealed valuable insights into the spatial distribution and characteristics of solar energy production zones. These findings can inform decision-making processes related to infrastructure planning, resource allocation, and policy development in the renewable energy sector. By identifying common patterns and outliers in solar energy production, stakeholders can develop targeted strategies to maximize the efficiency and sustainability of solar energy utilization."
   ]
  },
  {
   "cell_type": "code",
   "execution_count": null,
   "id": "7ac29998",
   "metadata": {},
   "outputs": [],
   "source": []
  },
  {
   "cell_type": "code",
   "execution_count": null,
   "id": "e6638043",
   "metadata": {},
   "outputs": [],
   "source": []
  }
 ],
 "metadata": {
  "kernelspec": {
   "display_name": "Python 3 (ipykernel)",
   "language": "python",
   "name": "python3"
  },
  "language_info": {
   "codemirror_mode": {
    "name": "ipython",
    "version": 3
   },
   "file_extension": ".py",
   "mimetype": "text/x-python",
   "name": "python",
   "nbconvert_exporter": "python",
   "pygments_lexer": "ipython3",
   "version": "3.11.5"
  }
 },
 "nbformat": 4,
 "nbformat_minor": 5
}
